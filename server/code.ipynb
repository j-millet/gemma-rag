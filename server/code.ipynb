{
 "cells": [
  {
   "cell_type": "code",
   "execution_count": 1,
   "metadata": {},
   "outputs": [
    {
     "data": {
      "text/plain": [
       "True"
      ]
     },
     "execution_count": 1,
     "metadata": {},
     "output_type": "execute_result"
    }
   ],
   "source": [
    "from transformers import AutoTokenizer, AutoModelForCausalLM,BitsAndBytesConfig\n",
    "import torch\n",
    "\n",
    "torch.cuda.is_available()"
   ]
  },
  {
   "cell_type": "code",
   "execution_count": 2,
   "metadata": {},
   "outputs": [],
   "source": [
    "import langchain"
   ]
  },
  {
   "cell_type": "code",
   "execution_count": 3,
   "metadata": {},
   "outputs": [
    {
     "data": {
      "application/vnd.jupyter.widget-view+json": {
       "model_id": "a0d0811344dc4a28a09c88c41445be74",
       "version_major": 2,
       "version_minor": 0
      },
      "text/plain": [
       "Loading checkpoint shards:   0%|          | 0/4 [00:00<?, ?it/s]"
      ]
     },
     "metadata": {},
     "output_type": "display_data"
    }
   ],
   "source": [
    "quantization_config = BitsAndBytesConfig(load_in_4bit=True)\n",
    "tokenizer = AutoTokenizer.from_pretrained(\"google/gemma-2-9b-it\")\n",
    "model = AutoModelForCausalLM.from_pretrained(\n",
    "    \"google/gemma-2-9b-it\",\n",
    "    device_map=\"cuda\",\n",
    "    quantization_config=quantization_config\n",
    ")"
   ]
  },
  {
   "cell_type": "code",
   "execution_count": 4,
   "metadata": {},
   "outputs": [],
   "source": [
    "class model_chat:\n",
    "    def __init__(self,model,tokenizer):\n",
    "        self.model = model\n",
    "        self.tokenizer = tokenizer\n",
    "        self.chat_history = []\n",
    "        self.special_tokens = ['<bos>','<eos>','<pad>','<unk>','<start_of_turn>','<end_of_turn>']\n",
    "\n",
    "    def send_message(self,message,max_new_tokens=100) -> str:\n",
    "        self.chat_history.append({\"role\":\"user\",\"content\":message})\n",
    "        input_text = tokenizer.apply_chat_template(self.chat_history,tokenize=False,add_generation_prompt=True)\n",
    "        print(input_text)\n",
    "        input_ids = tokenizer(input_text, add_special_tokens=False,return_tensors=\"pt\").to(\"cuda\")\n",
    "        outputs = model.generate(**input_ids,max_new_tokens=max_new_tokens)\n",
    "        text = tokenizer.decode(outputs[0])\n",
    "\n",
    "        model_message = text.replace(input_text,\"\")\n",
    "        for special_token in self.special_tokens:\n",
    "            model_message = model_message.replace(special_token,\"\")\n",
    "        \n",
    "        self.chat_history.append({\"role\":\"model\",\"content\":model_message})\n",
    "        return model_message"
   ]
  },
  {
   "cell_type": "markdown",
   "metadata": {},
   "source": []
  },
  {
   "cell_type": "code",
   "execution_count": 5,
   "metadata": {},
   "outputs": [
    {
     "name": "stdout",
     "output_type": "stream",
     "text": [
      "<bos><start_of_turn>user\n",
      "My name is mark bark, nice to meet you!<end_of_turn>\n",
      "<start_of_turn>model\n",
      "\n"
     ]
    },
    {
     "name": "stderr",
     "output_type": "stream",
     "text": [
      "/home/milte/anaconda3/envs/gemma-rag/lib/python3.12/site-packages/bitsandbytes/nn/modules.py:426: UserWarning: Input type into Linear4bit is torch.float16, but bnb_4bit_compute_dtype=torch.float32 (default). This will lead to slow inference or training speed.\n",
      "  warnings.warn(\n"
     ]
    },
    {
     "name": "stdout",
     "output_type": "stream",
     "text": [
      "Nice to meet you too, Mark Bark! It's a pleasure to make your acquaintance.\n",
      "\n",
      "Is there anything I can help you with today?\n",
      "\n"
     ]
    }
   ],
   "source": [
    "chat = model_chat(model,tokenizer)\n",
    "print(chat.send_message(\"My name is mark bark, nice to meet you!\"))"
   ]
  },
  {
   "cell_type": "code",
   "execution_count": 6,
   "metadata": {},
   "outputs": [
    {
     "name": "stdout",
     "output_type": "stream",
     "text": [
      "<bos><start_of_turn>user\n",
      "My name is mark bark, nice to meet you!<end_of_turn>\n",
      "<start_of_turn>model\n",
      "Nice to meet you too, Mark Bark! It's a pleasure to make your acquaintance.\n",
      "\n",
      "Is there anything I can help you with today?<end_of_turn>\n",
      "<start_of_turn>user\n",
      "Can you write a hello world program in rust?<end_of_turn>\n",
      "<start_of_turn>model\n",
      "\n",
      "```rust\n",
      "fn main() {\n",
      "    println!(\"Hello, world!\");\n",
      "}\n",
      "```\n",
      "\n",
      "**Explanation:**\n",
      "\n",
      "* `fn main()`: This line defines the main function, which is the entry point of every Rust program.\n",
      "* `println!(\"Hello, world!\");`: This line uses the `println!` macro to print the string \"Hello, world!\" to the console.\n",
      "\n",
      "**To run this program:**\n",
      "\n",
      "1. Save the code as a file named `hello_world\n"
     ]
    }
   ],
   "source": [
    "print(chat.send_message(\"Can you write a hello world program in rust?\"))"
   ]
  },
  {
   "cell_type": "code",
   "execution_count": 7,
   "metadata": {},
   "outputs": [
    {
     "name": "stdout",
     "output_type": "stream",
     "text": [
      "<bos><start_of_turn>user\n",
      "My name is mark bark, nice to meet you!<end_of_turn>\n",
      "<start_of_turn>model\n",
      "Nice to meet you too, Mark Bark! It's a pleasure to make your acquaintance.\n",
      "\n",
      "Is there anything I can help you with today?<end_of_turn>\n",
      "<start_of_turn>user\n",
      "Can you write a hello world program in rust?<end_of_turn>\n",
      "<start_of_turn>model\n",
      "```rust\n",
      "fn main() {\n",
      "    println!(\"Hello, world!\");\n",
      "}\n",
      "```\n",
      "\n",
      "**Explanation:**\n",
      "\n",
      "* `fn main()`: This line defines the main function, which is the entry point of every Rust program.\n",
      "* `println!(\"Hello, world!\");`: This line uses the `println!` macro to print the string \"Hello, world!\" to the console.\n",
      "\n",
      "**To run this program:**\n",
      "\n",
      "1. Save the code as a file named `hello_world<end_of_turn>\n",
      "<start_of_turn>user\n",
      "Can you remind me my name?<end_of_turn>\n",
      "<start_of_turn>model\n",
      "\n",
      "You told me your name is Mark Bark.  \n",
      "\n",
      "Is there anything else I can help you with?\n",
      "\n"
     ]
    }
   ],
   "source": [
    "print(chat.send_message(\"Can you remind me my name?\"))"
   ]
  },
  {
   "cell_type": "code",
   "execution_count": 23,
   "metadata": {},
   "outputs": [
    {
     "data": {
      "text/plain": [
       "\"<bos><start_of_turn>user\\nMy name is mark bark, nice to meet you!<end_of_turn>\\n<start_of_turn>model\\nHello mark bark, it's nice to meet you too! 👋\\n\\nIs there anything I can help you with today?<end_of_turn>\\n<eos>\""
      ]
     },
     "execution_count": 23,
     "metadata": {},
     "output_type": "execute_result"
    }
   ],
   "source": [
    "chat_history = [{\"role\":\"user\",\"content\":\"My name is mark bark, nice to meet you!\"},{\"role\":\"assistant\",\"content\":\"Hello mark bark,\"}]\n",
    "input_text = tokenizer.apply_chat_template(chat_history[:-1],tokenize=False,add_generation_prompt=False) + f\"<start_of_turn>model\\n{chat_history[-1]['content']}\"\n",
    "input_ids = tokenizer(input_text, add_special_tokens=False,return_tensors=\"pt\").to(\"cuda\")\n",
    "outputs = model.generate(**input_ids,max_new_tokens=100)\n",
    "text = tokenizer.decode(outputs[0])\n",
    "text"
   ]
  },
  {
   "cell_type": "code",
   "execution_count": null,
   "metadata": {},
   "outputs": [],
   "source": [
    "torch.cuda.empty_cache()"
   ]
  }
 ],
 "metadata": {
  "kernelspec": {
   "display_name": "gemma-rag",
   "language": "python",
   "name": "python3"
  },
  "language_info": {
   "codemirror_mode": {
    "name": "ipython",
    "version": 3
   },
   "file_extension": ".py",
   "mimetype": "text/x-python",
   "name": "python",
   "nbconvert_exporter": "python",
   "pygments_lexer": "ipython3",
   "version": "3.12.2"
  }
 },
 "nbformat": 4,
 "nbformat_minor": 2
}
